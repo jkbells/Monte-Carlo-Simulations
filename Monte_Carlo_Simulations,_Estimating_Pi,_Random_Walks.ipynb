{
  "nbformat": 4,
  "nbformat_minor": 0,
  "metadata": {
    "colab": {
      "name": "Monte Carlo Simulations, Estimating Pi, Random Walks.ipynb",
      "provenance": [],
      "collapsed_sections": [],
      "authorship_tag": "ABX9TyM/+X9EIPdc8V8J+IzcU4X1",
      "include_colab_link": true
    },
    "kernelspec": {
      "name": "python3",
      "display_name": "Python 3"
    },
    "language_info": {
      "name": "python"
    }
  },
  "cells": [
    {
      "cell_type": "markdown",
      "metadata": {
        "id": "view-in-github",
        "colab_type": "text"
      },
      "source": [
        "<a href=\"https://colab.research.google.com/github/jkbells/Monte-Carlo-Simulations/blob/main/Monte_Carlo_Simulations%2C_Estimating_Pi%2C_Random_Walks.ipynb\" target=\"_parent\"><img src=\"https://colab.research.google.com/assets/colab-badge.svg\" alt=\"Open In Colab\"/></a>"
      ]
    },
    {
      "cell_type": "markdown",
      "metadata": {
        "id": "eXENubzbRlYA"
      },
      "source": [
        "# **Monte Carlo Simulation**\n",
        "\n",
        "we can do simulations to,well,simulate the real world in a low-risk environment.Monte Carlo simulation is by far the most widely used simulation and the concept is vey simple:try to do something n number of times and calculate probabilities of landing In a particular state.\n",
        "\n",
        "Examples:\n",
        "   \n",
        "\n",
        "---\n",
        "\n",
        "\n",
        "\n",
        "---\n",
        "\n",
        "\n",
        "\n",
        "*   Estimating pi\n",
        "\n",
        "*   Random Walks\n",
        "\n",
        "*   Finance: predicting stock prices\n",
        "*   Aeronautical Engineering:Airflow around the wings\n",
        "\n",
        "\n",
        "*   car safety:Crash simulations\n",
        "\n",
        "\n",
        "*   Medicine:spread of disease and contagions\n",
        "\n",
        "\n",
        "\n",
        "\n",
        "# **Estimating Pi**\n",
        "\n",
        "Area of a circle is given as: pi(r^2)\n",
        "\n",
        "so, pi is essentially a ration between the area and the radius square. We can use that to estimate the value of pi using Monto Carlo simulation.\n",
        "\n",
        "We can simulate throwing darts and see which ones land within the circle and which ones land outside it.\n",
        "\n",
        "Also,if we throw darts only in the top-right quadrant, it will have the same ratio.\n",
        "\n",
        "area(circle) = pi(r^2)\n",
        "\n",
        "area(square) = (2r)^2 = 4(r^2)\n",
        "\n",
        "so, if we divide the area of circle by the area of sqaure, we get pi/4.Multiply by 4 and you get an estimate of the value of pi.\n",
        "\n"
      ]
    },
    {
      "cell_type": "markdown",
      "metadata": {
        "id": "ZILRJOTFwqJP"
      },
      "source": [
        ""
      ]
    },
    {
      "cell_type": "code",
      "metadata": {
        "id": "cWmOGW8-SJaa"
      },
      "source": [
        "import random as r\n",
        "from math import sqrt"
      ],
      "execution_count": null,
      "outputs": []
    },
    {
      "cell_type": "code",
      "metadata": {
        "id": "6x47AGInVKVX"
      },
      "source": [
        "def distance(a, b):\n",
        "  return sqrt(a**2 + b**2)\n",
        "\n",
        "def estimate_pi(darts):\n",
        "  inside = 0\n",
        "\n",
        "  for i in range(darts):\n",
        "    x = r.random()\n",
        "    y = r.random()\n",
        "\n",
        "    if distance(x, y) < 1.0:\n",
        "      inside += 1\n",
        "\n",
        "  pi = (inside / darts) * 4\n",
        "  return pi"
      ],
      "execution_count": null,
      "outputs": []
    },
    {
      "cell_type": "code",
      "metadata": {
        "colab": {
          "base_uri": "https://localhost:8080/"
        },
        "id": "3CwXb8ypVmvf",
        "outputId": "6c61917b-95bf-4cf3-b68b-8cbdbb223bfb"
      },
      "source": [
        "num_sim = int( 1e+6 )\n",
        "pi = estimate_pi(num_sim)\n",
        "print(pi)"
      ],
      "execution_count": null,
      "outputs": [
        {
          "output_type": "stream",
          "text": [
            "3.142584\n"
          ],
          "name": "stdout"
        }
      ]
    },
    {
      "cell_type": "markdown",
      "metadata": {
        "id": "ull6vcUhYWdd"
      },
      "source": [
        "# **Random Walks**"
      ]
    },
    {
      "cell_type": "code",
      "metadata": {
        "id": "ZbUySZEIV1S_"
      },
      "source": [
        "import random\n",
        "\n",
        "def get_action():\n",
        "  return random.choice( [(0, 1), (0, -1), (1, 0 ), (-1, 0)])\n",
        "\n",
        "def random_walk(n):\n",
        "  \"\"\"Return path after 'n' block random walk\"\"\"\n",
        "  path = []\n",
        "\n",
        "  x, y = 0, 0\n",
        "  # y = 0\n",
        "  for i in range(n):\n",
        "\n",
        "    (dx, dy) = get_action()  # get step deltas\n",
        "\n",
        "    x = x + dx\n",
        "    y = y + dy\n",
        "\n",
        "    path.append( (x,y) )     # create new tuple and save in the 'path\n",
        "\n",
        "  return path\n",
        "\n",
        "walk = random_walk(150)\n"
      ],
      "execution_count": null,
      "outputs": []
    },
    {
      "cell_type": "code",
      "metadata": {
        "colab": {
          "base_uri": "https://localhost:8080/",
          "height": 424
        },
        "id": "7Hicqs_mbRC5",
        "outputId": "900b07e6-9183-4614-9872-6e3bb5cafb1b"
      },
      "source": [
        "import matplotlib.pyplot as plt\n",
        "%matplotlib inline\n",
        "\n",
        "plt.figure(num=None, figsize=(15,10))\n",
        "\n",
        "point_color = list(range(150))\n",
        "\n",
        "x_numbers = [x[0] for x in walk]\n",
        "y_numbers = [x[1] for x in walk]\n",
        "\n",
        "plt.scatter(x_numbers, y_numbers, marker=',' , s=150 , c=point_color)\n",
        "\n",
        "plt.show()"
      ],
      "execution_count": null,
      "outputs": [
        {
          "output_type": "display_data",
          "data": {
            "image/png": "[encoded data removed]",
            "text/plain": [
              "<Figure size 1080x720 with 1 Axes>"
            ]
          },
          "metadata": {
            "needs_background": "light"
          }
        }
      ]
    },
    {
      "cell_type": "code",
      "metadata": {
        "id": "F0Ea_qFtcr7e"
      },
      "source": [
        ""
      ],
      "execution_count": null,
      "outputs": []
    }
  ]
}